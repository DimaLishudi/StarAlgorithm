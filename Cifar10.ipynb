{
  "nbformat": 4,
  "nbformat_minor": 0,
  "metadata": {
    "colab": {
      "name": "Untitled2.ipynb",
      "provenance": [],
      "authorship_tag": "ABX9TyMnxZyMtxJfD/KXNpfh/swm",
      "include_colab_link": true
    },
    "kernelspec": {
      "name": "python3",
      "display_name": "Python 3"
    },
    "language_info": {
      "name": "python"
    },
    "accelerator": "TPU"
  },
  "cells": [
    {
      "cell_type": "markdown",
      "metadata": {
        "id": "view-in-github",
        "colab_type": "text"
      },
      "source": [
        "<a href=\"https://colab.research.google.com/github/dimlish/StarAlgorithm/blob/main/Cifar10.ipynb\" target=\"_parent\"><img src=\"https://colab.research.google.com/assets/colab-badge.svg\" alt=\"Open In Colab\"/></a>"
      ]
    },
    {
      "cell_type": "code",
      "metadata": {
        "id": "RmGay8yw0Vak"
      },
      "source": [
        "import numpy as np \n",
        "import torch\n",
        "import torchvision\n",
        "import matplotlib.pyplot as plt\n",
        "import torch.nn as nn\n",
        "import torch.nn.functional as F\n",
        "import torch.optim as optim\n",
        "import torchvision\n",
        "import torchvision.transforms as transforms\n",
        "from torchvision import datasets\n",
        "\n",
        "\n",
        "%matplotlib inline"
      ],
      "execution_count": 1,
      "outputs": []
    },
    {
      "cell_type": "code",
      "metadata": {
        "id": "agFQ_ufx0xUx",
        "colab": {
          "base_uri": "https://localhost:8080/"
        },
        "outputId": "630d5004-87e9-49b7-a181-ef7433273741"
      },
      "source": [
        "transform = transforms.Compose(\n",
        "    [transforms.ToTensor(),\n",
        "     transforms.Normalize((0.5, 0.5, 0.5), (0.5, 0.5, 0.5))])\n",
        "\n",
        "device = torch.device(\"cuda:0\" if torch.cuda.is_available() else \"cpu\")\n",
        "batch_size = 8\n",
        "\n",
        "train_set = torchvision.datasets.CIFAR10(root='./data', train=True,\n",
        "                                         download=True, transform=transform)\n",
        "train_loader = torch.utils.data.DataLoader(train_set, batch_size=batch_size,\n",
        "                                           shuffle=True, num_workers=2)\n",
        "\n",
        "test_set = torchvision.datasets.CIFAR10(root='./data', train=False,\n",
        "                                        download=True, transform=transform)\n",
        "test_loader = torch.utils.data.DataLoader(test_set, batch_size=batch_size,\n",
        "                                          shuffle=False, num_workers=2)\n",
        "\n",
        "classes = ('plane', 'car', 'bird', 'cat',\n",
        "           'deer', 'dog', 'frog', 'horse', 'ship', 'truck')"
      ],
      "execution_count": 2,
      "outputs": [
        {
          "output_type": "stream",
          "text": [
            "Files already downloaded and verified\n",
            "Files already downloaded and verified\n"
          ],
          "name": "stdout"
        }
      ]
    },
    {
      "cell_type": "code",
      "metadata": {
        "id": "4kN1BJt-0x0L"
      },
      "source": [
        "class Model1(nn.Module):\n",
        "    def __init__(self):\n",
        "        super().__init__()\n",
        "        self.pool = nn.MaxPool2d(2, 2)\n",
        "        self.c1 = nn.Conv2d(3, 12,  4)\n",
        "        self.c2 = nn.Conv2d(12, 36, 4)\n",
        "        self.l1 = nn.Linear(900, 200)\n",
        "        self.l2 = nn.Linear(200, 50)\n",
        "        self.l3 = nn.Linear(50, 10)\n",
        "\n",
        "    def forward(self, x):\n",
        "        x = self.pool(F.relu(self.c1(x)))\n",
        "        x = self.pool(F.relu(self.c2(x)))\n",
        "        x = torch.flatten(x, 1)\n",
        "        x = F.relu(self.l1(x))\n",
        "        x = F.relu(self.l2(x))\n",
        "        x = nn.Softmax(dim=-1)(self.l3(x))\n",
        "        return x"
      ],
      "execution_count": 3,
      "outputs": []
    },
    {
      "cell_type": "code",
      "metadata": {
        "id": "s0bvZYRDEZqi"
      },
      "source": [
        "class ModelStar(nn.Module):\n",
        "    def __init__(self, model1):\n",
        "        super().__init__()\n",
        "        self.model1 = model1\n",
        "        for p in self.model1.parameters():\n",
        "            p.requires_grad = False\n",
        "        self.pool = nn.MaxPool2d(2, 2)\n",
        "        self.c1 = nn.Conv2d(3, 12, 4)\n",
        "        self.c2 = nn.Conv2d(12, 36, 4)\n",
        "        self.l1 = nn.Linear(900, 200)\n",
        "        self.l2 = nn.Linear(200, 50)\n",
        "        self.l3 = nn.Linear(50, 10)\n",
        "\n",
        "    def forward(self, x):\n",
        "        x = self.pool(F.relu(self.c1(x)))\n",
        "        x = self.pool(F.relu(self.c2(x)))\n",
        "        x = torch.flatten(x, 1)\n",
        "        x = F.relu(self.l1(x))\n",
        "        x = F.relu(self.l2(x))\n",
        "        x = nn.Softmax(dim=-1)(self.l3(x))\n",
        "        return x"
      ],
      "execution_count": null,
      "outputs": []
    },
    {
      "cell_type": "code",
      "metadata": {
        "id": "4BuxwEwqtqKX"
      },
      "source": [
        "class Model2(nn.Module):\n",
        "    def __init__(self):\n",
        "        super().__init__()\n",
        "        self.pool = nn.MaxPool2d(2, 2)\n",
        "        self.c11 = nn.Conv2d(3, 12, 4)\n",
        "        self.c12 = nn.Conv2d(12, 36, 4)\n",
        "        self.l11 = nn.Linear(900, 200)\n",
        "        self.l12 = nn.Linear(200, 50)\n",
        "        self.l13 = nn.Linear(50, 10)\n",
        "\n",
        "    def forward(self, x):\n",
        "        x1 = x.copy()\n",
        "        x2 = x.copy()\n",
        "        x1 = self.pool(F.relu(self.c11(x)))\n",
        "        x1 = self.pool(F.relu(self.c12(x)))\n",
        "        x1 = torch.flatten(x, 1)\n",
        "        x1 = F.relu(self.l11(x))\n",
        "        x1 = F.relu(self.l12(x))\n",
        "        x1 = nn.Softmax(dim=-1)(self.l13(x))\n",
        "        return x"
      ],
      "execution_count": 4,
      "outputs": []
    },
    {
      "cell_type": "code",
      "metadata": {
        "colab": {
          "base_uri": "https://localhost:8080/"
        },
        "id": "Japnui0qjoF1",
        "outputId": "a338fbf4-7d27-4d24-993c-0115bbbaa107"
      },
      "source": [
        "base1 = Model1()\n",
        "crit = nn.CrossEntropyLoss()\n",
        "optimizer = optim.SGD(base1.parameters(), lr=0.01)\n",
        "base1.to(device)"
      ],
      "execution_count": 6,
      "outputs": [
        {
          "output_type": "execute_result",
          "data": {
            "text/plain": [
              "Model1(\n",
              "  (pool): MaxPool2d(kernel_size=2, stride=2, padding=0, dilation=1, ceil_mode=False)\n",
              "  (c1): Conv2d(3, 12, kernel_size=(4, 4), stride=(1, 1))\n",
              "  (c2): Conv2d(12, 36, kernel_size=(4, 4), stride=(1, 1))\n",
              "  (l1): Linear(in_features=900, out_features=200, bias=True)\n",
              "  (l2): Linear(in_features=200, out_features=50, bias=True)\n",
              "  (l3): Linear(in_features=50, out_features=10, bias=True)\n",
              ")"
            ]
          },
          "metadata": {
            "tags": []
          },
          "execution_count": 6
        }
      ]
    },
    {
      "cell_type": "code",
      "metadata": {
        "colab": {
          "base_uri": "https://localhost:8080/"
        },
        "id": "rY1XCOZ3hxro",
        "outputId": "1a39d463-1409-428c-8fa2-2b105449bec7"
      },
      "source": [
        "for epoch in range(30):\n",
        "    for x_train, y_train in train_loader:\n",
        "        x_train = x_train.to(device)\n",
        "        y_train = y_train.to(device)\n",
        "        y_pred = base1(x_train)\n",
        "        loss = crit(y_pred, y_train)\n",
        "        loss.backward()\n",
        "        optimizer.step()\n",
        "        optimizer.zero_grad()\n",
        "    \n",
        "    if epoch % 2 == 0:\n",
        "        mean_val_loss = []\n",
        "        val_accuracy = []\n",
        "        with torch.no_grad():\n",
        "            for x_test, y_test in test_loader:\n",
        "                x_test = x_test.to(device)\n",
        "                y_test = y_test.to(device)\n",
        "                y_pred = base1(x_test)\n",
        "                loss = crit(y_pred, y_test)\n",
        "                mean_val_loss.append(loss.numpy())\n",
        "                val_accuracy.extend((torch.argmax(y_pred, dim=-1) == y_test).numpy().tolist())\n",
        "        print('Epoch: {epoch}, loss: {loss}, accuracy: {accuracy}'.format(\n",
        "                epoch=epoch, loss=np.mean(mean_val_loss), accuracy=np.mean(val_accuracy)\n",
        "        ))\n",
        "    "
      ],
      "execution_count": null,
      "outputs": [
        {
          "output_type": "stream",
          "text": [
            "Epoch: 0, loss: 1.9202008247375488, accuracy: 0.5372\n",
            "Epoch: 2, loss: 1.9159451723098755, accuracy: 0.541\n",
            "Epoch: 4, loss: 1.8786888122558594, accuracy: 0.5819\n",
            "Epoch: 6, loss: 1.858500361442566, accuracy: 0.6052\n",
            "Epoch: 8, loss: 1.835591197013855, accuracy: 0.6237\n"
          ],
          "name": "stdout"
        }
      ]
    }
  ]
}