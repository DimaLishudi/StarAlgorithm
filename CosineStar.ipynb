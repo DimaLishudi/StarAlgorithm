{
  "nbformat": 4,
  "nbformat_minor": 0,
  "metadata": {
    "colab": {
      "name": "CosineStar.ipynb",
      "provenance": [],
      "collapsed_sections": [],
      "authorship_tag": "ABX9TyODJjk3rLbUQdtInw2+P7Nh",
      "include_colab_link": true
    },
    "kernelspec": {
      "name": "python3",
      "display_name": "Python 3"
    },
    "language_info": {
      "name": "python"
    }
  },
  "cells": [
    {
      "cell_type": "markdown",
      "metadata": {
        "id": "view-in-github",
        "colab_type": "text"
      },
      "source": [
        "<a href=\"https://colab.research.google.com/github/dimlish/StarAlgorithm/blob/main/CosineStar.ipynb\" target=\"_parent\"><img src=\"https://colab.research.google.com/assets/colab-badge.svg\" alt=\"Open In Colab\"/></a>"
      ]
    },
    {
      "cell_type": "code",
      "metadata": {
        "id": "KC1buI2cG8Wl"
      },
      "source": [
        "import numpy as np \n",
        "import torch\n",
        "import torchvision\n",
        "import matplotlib.pyplot as plt\n",
        "import torch.nn as nn\n",
        "import torch.nn.functional as F\n",
        "import torch.optim as optim\n",
        "\n",
        "%matplotlib inline"
      ],
      "execution_count": 1,
      "outputs": []
    },
    {
      "cell_type": "code",
      "metadata": {
        "id": "upOhheiuG-8I"
      },
      "source": [
        "def generate_cosine_func(k, outer_max = 2):\n",
        "    '''\n",
        "    generates f(x) = a_1 cos (x) + a_2 cos (2x) + ... + a_k cos (kx)\n",
        "    [a_1 ... a_k] = outer_coeffs\n",
        "    a_i ~ U[-outer_max, outer_max]\n",
        "    \n",
        "    args:\n",
        "        k - amount of cosine functions in sum\n",
        "        outer_max - maximum absolute value of outer coefficient\n",
        "    returns:\n",
        "        f(x)\n",
        "    '''\n",
        "\n",
        "    outer_coeffs = (torch.rand(k) * 2 * outer_max - outer_max)\n",
        "    inner_coeffs = torch.arange(1, k+1)\n",
        "    def func(x_vec):\n",
        "        res = []\n",
        "        for x in x_vec:\n",
        "            res.append(outer_coeffs @ torch.cos(inner_coeffs * x))\n",
        "        return torch.tensor(res, dtype=torch.float32)\n",
        "\n",
        "    return func;\n",
        "\n",
        "class FuncDataset(torch.utils.data.Dataset):\n",
        "    def __init__(self, size, sigma, f, x_len=3.14):\n",
        "        self.x = (torch.rand(size) * x_len * 2)\n",
        "        self.y = f(self.x) + torch.randn(size) * sigma\n",
        "\n",
        "    def __len__(self):\n",
        "        return len(self.x)\n",
        "\n",
        "    def __getitem__(self, idx):\n",
        "        return self.x[idx], self.y[idx]\n",
        "    \n",
        "    def getall(self):\n",
        "      return (self.x, self.y)"
      ],
      "execution_count": 2,
      "outputs": []
    },
    {
      "cell_type": "code",
      "metadata": {
        "id": "zkAzhrCiUTYB"
      },
      "source": [
        "class ThinRegression(nn.Module):\n",
        "    def __init__(self):\n",
        "        super().__init__()\n",
        "        self.l1 = nn.Linear(1, 500)\n",
        "        self.l2 = nn.Linear(500, 500)\n",
        "        self.l3 = nn.Linear(500, 500)\n",
        "        self.l4 = nn.Linear(500, 1)\n",
        "\n",
        "    def forward(self, x):\n",
        "        x = F.relu(self.l1(x))\n",
        "        x = F.relu(self.l2(x))\n",
        "        x = F.relu(self.l3(x))\n",
        "        x = self.l4(x)\n",
        "        return x"
      ],
      "execution_count": 3,
      "outputs": []
    },
    {
      "cell_type": "code",
      "metadata": {
        "id": "z6HC6ziHUnnZ"
      },
      "source": [
        "class StarRegression(nn.Module):\n",
        "    def __init__(self, trained_model, ThinClass):\n",
        "        super().__init__()\n",
        "        self.trained = trained_model\n",
        "        for p in self.trained.parameters():\n",
        "            p.requires_grad = False\n",
        "        self.training = ThinClass()\n",
        "        self.l = nn.Linear(2, 1, bias=False)\n",
        "\n",
        "    def forward(self, x):\n",
        "        x = self.l(torch.hstack((self.trained(x), self.training(x))))\n",
        "        return x"
      ],
      "execution_count": 4,
      "outputs": []
    },
    {
      "cell_type": "code",
      "metadata": {
        "id": "EDfBPBcJaucA"
      },
      "source": [
        "class ThickRegression(nn.Module):\n",
        "    def __init__(self, ThinClass):\n",
        "        super().__init__()\n",
        "        self.m1 = ThinClass()\n",
        "        self.m2 = ThinClass()\n",
        "        self.l = nn.Linear(2, 1, bias=False)\n",
        "\n",
        "    def forward(self, x):\n",
        "        x = self.l(torch.hstack((self.m1(x), self.m2(x))))\n",
        "        return x"
      ],
      "execution_count": 5,
      "outputs": []
    },
    {
      "cell_type": "code",
      "metadata": {
        "id": "Fpmj3RLMcODL"
      },
      "source": [
        "train_size = 500\n",
        "test_size = 100\n",
        "device = torch.device(\"cuda:0\" if torch.cuda.is_available() else \"cpu\")\n",
        "b_size = 1\n",
        "sigma = 0.02\n",
        "k = 3\n",
        "\n",
        "f = generate_cosine_func(k)\n",
        "train_set = FuncDataset(train_size, sigma, f)\n",
        "test_set = FuncDataset(test_size, sigma, f)\n",
        "\n",
        "\n",
        "train_loader = torch.utils.data.DataLoader(train_set, batch_size=b_size)\n",
        "test_loader = torch.utils.data.DataLoader(test_set, batch_size=b_size)\n",
        "\n",
        "thin = ThinRegression()\n",
        "thick = ThickRegression(ThinRegression)\n",
        "thin.to(device)\n",
        "thick.to(device)\n",
        "crit = nn.MSELoss()"
      ],
      "execution_count": 13,
      "outputs": []
    },
    {
      "cell_type": "code",
      "metadata": {
        "colab": {
          "base_uri": "https://localhost:8080/",
          "height": 265
        },
        "id": "EtngrWOpnGrv",
        "outputId": "fd3d4f6a-e9fd-4758-bd03-1d937b32f3ac"
      },
      "source": [
        "(x, y) = train_set.getall()\n",
        "plt.scatter(x, y)\n",
        "plt.show()"
      ],
      "execution_count": 14,
      "outputs": [
        {
          "output_type": "display_data",
          "data": {
            "image/png": "[encoded data removed]",
            "text/plain": [
              "<Figure size 432x288 with 1 Axes>"
            ]
          },
          "metadata": {
            "tags": [],
            "needs_background": "light"
          }
        }
      ]
    },
    {
      "cell_type": "code",
      "metadata": {
        "id": "x2FpGzZkauj3"
      },
      "source": [
        "def train(model, trainloader, testloader, epoch_num, lr=0.01, tol=1e-5, test_freq=2, name=None):\n",
        "    '''\n",
        "        args:\n",
        "        model - model to be trained\n",
        "        trainloader - dataloader of training dataset\n",
        "        testloader - dataloader of testing dataset\n",
        "        epoch_num - amount of epoches to train\n",
        "        name - name of model (only for printing)\n",
        "        tol - tolerance of loss, if difference is < tol, training is stopped\n",
        "        test_freq - frequency, every test_freq epoches loss on testing dataset is calculated\n",
        "        \n",
        "        returns:\n",
        "          losses - list of avg loss on training dataset per every test_freq epoches\n",
        "    '''\n",
        "    \n",
        "    \n",
        "    if name is not None:\n",
        "        print(\"\\n\" + '-' * 50)\n",
        "        print(name + \":\")\n",
        "    losses = []\n",
        "    optimizer = optim.SGD(model.parameters(), lr)\n",
        "    for epoch in range(epoch_num):\n",
        "        for x_train, y_train in trainloader:\n",
        "            x_train = x_train.to(device)\n",
        "            y_train = y_train.to(device)\n",
        "            y_pred = model(x_train)\n",
        "      \n",
        "            loss = crit(y_pred, y_train)\n",
        "            loss.backward()\n",
        "            optimizer.step()\n",
        "            optimizer.zero_grad()\n",
        "        \n",
        "        if epoch % test_freq == 0:\n",
        "            mean_val_loss = []\n",
        "            val_accuracy = []\n",
        "            with torch.no_grad():\n",
        "                for x_test, y_test in testloader:\n",
        "                    x_test = x_test.to(device)\n",
        "                    y_test = y_test.to(device)\n",
        "                    y_pred = model(x_test)\n",
        "                    loss = crit(y_pred, y_test)\n",
        "                    mean_val_loss.append(loss.numpy())\n",
        "            print('Epoch: {epoch}, loss: {loss}'.format(\n",
        "                    epoch=epoch, loss=np.mean(mean_val_loss)\n",
        "            ))\n",
        "            losses.append(np.mean(mean_val_loss))\n",
        "            if losses[-1] != losses[-1]:\n",
        "              raise ValueError(\"NaN loss\")\n",
        "            if len(losses) > 2 and abs(losses[-1] - losses[-2]) < tol:\n",
        "                while len(losses) != epoch_num // test_freq:\n",
        "                  losses.append(losses[-1]) # fill the list before finishing training\n",
        "                break\n",
        "    return losses"
      ],
      "execution_count": 18,
      "outputs": []
    },
    {
      "cell_type": "code",
      "metadata": {
        "colab": {
          "base_uri": "https://localhost:8080/"
        },
        "id": "juditG5HsunV",
        "outputId": "0a329a5d-d4ea-4e49-cfa4-10dab1613537"
      },
      "source": [
        "epoch = 100\n",
        "thin_losses = train(thin, train_loader, test_loader, 100, name=\"thin\")\n",
        "thick_losses = train(thick, train_loader, test_loader, 100, name=\"thick\")"
      ],
      "execution_count": 19,
      "outputs": [
        {
          "output_type": "stream",
          "text": [
            "\n",
            "--------------------------------------------------\n",
            "thin:\n",
            "Epoch: 0, loss: 1.2238818407058716\n",
            "Epoch: 2, loss: 0.8675661683082581\n",
            "Epoch: 4, loss: 0.8648316264152527\n",
            "Epoch: 6, loss: 0.8593625426292419\n",
            "Epoch: 8, loss: 0.8558115363121033\n",
            "Epoch: 10, loss: 0.8523064255714417\n",
            "Epoch: 12, loss: 0.850858211517334\n",
            "Epoch: 14, loss: 0.8500234484672546\n",
            "Epoch: 16, loss: 0.8493529558181763\n",
            "Epoch: 18, loss: 0.8484447002410889\n",
            "Epoch: 20, loss: 0.8479702472686768\n",
            "Epoch: 22, loss: 0.8471913933753967\n",
            "Epoch: 24, loss: 0.8466074466705322\n",
            "Epoch: 26, loss: 0.8463537096977234\n",
            "Epoch: 28, loss: 0.8459867835044861\n",
            "Epoch: 30, loss: 0.8459004759788513\n",
            "Epoch: 32, loss: 0.8456246852874756\n",
            "Epoch: 34, loss: 0.8454843163490295\n",
            "Epoch: 36, loss: 0.8454188704490662\n",
            "Epoch: 38, loss: 0.8452957272529602\n",
            "Epoch: 40, loss: 0.8451679348945618\n",
            "Epoch: 42, loss: 0.8451411724090576\n",
            "Epoch: 44, loss: 0.8450042009353638\n",
            "Epoch: 46, loss: 0.8449389934539795\n",
            "Epoch: 48, loss: 0.8449124097824097\n",
            "Epoch: 50, loss: 0.8448821902275085\n",
            "Epoch: 52, loss: 0.8449326157569885\n",
            "Epoch: 54, loss: 0.8447583913803101\n",
            "Epoch: 56, loss: 0.8447856903076172\n",
            "Epoch: 58, loss: 0.8447160124778748\n",
            "Epoch: 60, loss: 0.8446366786956787\n",
            "Epoch: 62, loss: 0.8446536064147949\n",
            "Epoch: 64, loss: 0.8446182012557983\n",
            "Epoch: 66, loss: 0.8446601629257202\n",
            "Epoch: 68, loss: 0.8445507884025574\n",
            "Epoch: 70, loss: 0.8445687890052795\n",
            "Epoch: 72, loss: 0.8444947600364685\n",
            "Epoch: 74, loss: 0.8444973230361938\n",
            "\n",
            "--------------------------------------------------\n",
            "thick:\n",
            "Epoch: 0, loss: 1.5946474075317383\n",
            "Epoch: 2, loss: 0.8595790266990662\n",
            "Epoch: 4, loss: 0.7293664813041687\n",
            "Epoch: 6, loss: 0.6870996356010437\n",
            "Epoch: 8, loss: 0.5935738682746887\n",
            "Epoch: 10, loss: 0.5240831971168518\n",
            "Epoch: 12, loss: 0.7231549620628357\n",
            "Epoch: 14, loss: 0.5301637053489685\n",
            "Epoch: 16, loss: 0.439914733171463\n",
            "Epoch: 18, loss: 0.4419766366481781\n",
            "Epoch: 20, loss: 0.7898448705673218\n",
            "Epoch: 22, loss: 0.8329130411148071\n",
            "Epoch: 24, loss: 0.3707834482192993\n",
            "Epoch: 26, loss: 0.6541656255722046\n",
            "Epoch: 28, loss: 0.5556207895278931\n",
            "Epoch: 30, loss: 0.4868587851524353\n",
            "Epoch: 32, loss: 0.6008992791175842\n",
            "Epoch: 34, loss: 0.2995608448982239\n",
            "Epoch: 36, loss: 0.3387503921985626\n",
            "Epoch: 38, loss: 0.32926467061042786\n",
            "Epoch: 40, loss: 0.24900184571743011\n",
            "Epoch: 42, loss: 0.22630438208580017\n",
            "Epoch: 44, loss: 0.3659805953502655\n",
            "Epoch: 46, loss: 0.28548917174339294\n",
            "Epoch: 48, loss: 0.2193283587694168\n",
            "Epoch: 50, loss: 0.04384312033653259\n",
            "Epoch: 52, loss: 0.04444799944758415\n",
            "Epoch: 54, loss: 0.027924973517656326\n",
            "Epoch: 56, loss: 0.039741888642311096\n",
            "Epoch: 58, loss: 0.015717871487140656\n",
            "Epoch: 60, loss: 0.03421516343951225\n",
            "Epoch: 62, loss: 0.02049293927848339\n",
            "Epoch: 64, loss: 0.007602763827890158\n",
            "Epoch: 66, loss: 0.006793125998228788\n",
            "Epoch: 68, loss: 0.009302927181124687\n",
            "Epoch: 70, loss: 0.003813941963016987\n",
            "Epoch: 72, loss: 0.003963983152061701\n",
            "Epoch: 74, loss: 0.0035149436444044113\n",
            "Epoch: 76, loss: 0.0031524065416306257\n",
            "Epoch: 78, loss: 0.00853580329567194\n",
            "Epoch: 80, loss: 0.00864153541624546\n",
            "Epoch: 82, loss: 0.009353346191346645\n",
            "Epoch: 84, loss: 0.008788631297647953\n",
            "Epoch: 86, loss: 0.008623265661299229\n",
            "Epoch: 88, loss: 0.008578885346651077\n",
            "Epoch: 90, loss: 0.008674144744873047\n",
            "Epoch: 92, loss: 0.008499028161168098\n",
            "Epoch: 94, loss: 0.007750399876385927\n",
            "Epoch: 96, loss: 0.007732781581580639\n",
            "Epoch: 98, loss: 0.007315892726182938\n"
          ],
          "name": "stdout"
        }
      ]
    },
    {
      "cell_type": "code",
      "metadata": {
        "colab": {
          "base_uri": "https://localhost:8080/"
        },
        "id": "acC3phBJujho",
        "outputId": "fc01249e-05d8-4a25-dffb-81d3f347529c"
      },
      "source": [
        "star = StarRegression(thin, ThinRegression)\n",
        "star_losses = train(star, train_loader, test_loader, 100, name=\"star\")"
      ],
      "execution_count": 20,
      "outputs": [
        {
          "output_type": "stream",
          "text": [
            "\n",
            "--------------------------------------------------\n",
            "star:\n",
            "Epoch: 0, loss: 0.8347721695899963\n",
            "Epoch: 2, loss: 0.8126279711723328\n",
            "Epoch: 4, loss: 0.7952355742454529\n",
            "Epoch: 6, loss: 0.7667390704154968\n",
            "Epoch: 8, loss: 0.7610991597175598\n",
            "Epoch: 10, loss: 0.6559656262397766\n",
            "Epoch: 12, loss: 0.5542243719100952\n",
            "Epoch: 14, loss: 0.6524688601493835\n",
            "Epoch: 16, loss: 0.5018010139465332\n",
            "Epoch: 18, loss: 0.6359798908233643\n",
            "Epoch: 20, loss: 0.6394137144088745\n",
            "Epoch: 22, loss: 0.7965750694274902\n",
            "Epoch: 24, loss: 0.7331981658935547\n",
            "Epoch: 26, loss: 0.3475186228752136\n",
            "Epoch: 28, loss: 0.7596381306648254\n",
            "Epoch: 30, loss: 0.39740294218063354\n",
            "Epoch: 32, loss: 0.3666199743747711\n",
            "Epoch: 34, loss: 0.5386463403701782\n",
            "Epoch: 36, loss: 0.26326242089271545\n",
            "Epoch: 38, loss: 0.3952982425689697\n",
            "Epoch: 40, loss: 0.3546528220176697\n",
            "Epoch: 42, loss: 0.38185587525367737\n",
            "Epoch: 44, loss: 0.3824811577796936\n",
            "Epoch: 46, loss: 0.25096094608306885\n",
            "Epoch: 48, loss: 0.218655526638031\n",
            "Epoch: 50, loss: 0.3526991605758667\n",
            "Epoch: 52, loss: 0.047830142080783844\n",
            "Epoch: 54, loss: 0.018182821571826935\n",
            "Epoch: 56, loss: 0.012374114245176315\n",
            "Epoch: 58, loss: 0.03174257650971413\n",
            "Epoch: 60, loss: 0.014092372730374336\n",
            "Epoch: 62, loss: 0.014322526752948761\n",
            "Epoch: 64, loss: 0.022811565548181534\n",
            "Epoch: 66, loss: 0.005150030832737684\n",
            "Epoch: 68, loss: 0.005261138081550598\n",
            "Epoch: 70, loss: 0.0037808758206665516\n",
            "Epoch: 72, loss: 0.0037747567985206842\n"
          ],
          "name": "stdout"
        }
      ]
    },
    {
      "cell_type": "code",
      "metadata": {
        "colab": {
          "base_uri": "https://localhost:8080/"
        },
        "id": "-vKWgUF7uqDs",
        "outputId": "45ee94f8-2df6-425e-da18-a433401761a9"
      },
      "source": [
        "for p in star.l.named_parameters():\n",
        "  print(p) # weights of neural networks in star"
      ],
      "execution_count": 11,
      "outputs": [
        {
          "output_type": "stream",
          "text": [
            "('weight', Parameter containing:\n",
            "tensor([[nan, nan]], requires_grad=True))\n"
          ],
          "name": "stdout"
        }
      ]
    },
    {
      "cell_type": "code",
      "metadata": {
        "colab": {
          "base_uri": "https://localhost:8080/",
          "height": 513
        },
        "id": "7fjFfTPHvfYd",
        "outputId": "51d1ac68-4c27-4375-e168-70c9c5f4fa06"
      },
      "source": [
        "plt.figure(1)\n",
        "\n",
        "(x, y) = test_set.getall()\n",
        "x = x.reshape((test_size, 1))\n",
        "plt.scatter(x, y, c='black', label='true')\n",
        "\n",
        "y = thin(x)\n",
        "plt.scatter(x, y.detach().numpy(), c='r', label='thin')\n",
        "\n",
        "y = thick(x)\n",
        "plt.scatter(x, y.detach().numpy(), c='g', label='thick')\n",
        "\n",
        "y = star(x)\n",
        "plt.scatter(x, y.detach().numpy(), c='b', label='star')\n",
        "\n",
        "\n",
        "plt.legend(loc='upper left')\n",
        "plt.show()\n",
        "\n",
        "\n",
        "\n",
        "indexes = [i for i in range(0, epoch, 2)]\n",
        "\n",
        "plt.figure(2)\n",
        "plt.plot(indexes, thin_losses, c='r', label='thin')\n",
        "plt.plot(indexes, thick_losses, c='g', label='thick')\n",
        "plt.plot(indexes, star_losses, c='b', label='star')\n",
        "plt.legend(loc='upper left')\n",
        "plt.show()\n"
      ],
      "execution_count": 21,
      "outputs": [
        {
          "output_type": "display_data",
          "data": {
            "image/png": "[encoded data removed]",
            "text/plain": [
              "<Figure size 432x288 with 1 Axes>"
            ]
          },
          "metadata": {
            "tags": [],
            "needs_background": "light"
          }
        },
        {
          "output_type": "display_data",
          "data": {
            "image/png": "[encoded data removed]",
            "text/plain": [
              "<Figure size 432x288 with 1 Axes>"
            ]
          },
          "metadata": {
            "tags": [],
            "needs_background": "light"
          }
        }
      ]
    },
    {
      "cell_type": "code",
      "metadata": {
        "id": "P0GMRyp7K9k8"
      },
      "source": [
        "indexes = [i for i in range(0, epoch, 2)]\n",
        "\n",
        "plt.plot(indexes, thin_losses, c='r', label='thin')\n",
        "plt.plot(indexes, thick_losses, c='g', label='thick')\n",
        "plt.plot(indexes, star_losses, c='b', label='star')\n",
        "plt.legend(loc='upper left')\n",
        "plt.show()"
      ],
      "execution_count": null,
      "outputs": []
    }
  ]
}